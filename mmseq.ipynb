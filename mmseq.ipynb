{
 "cells": [
  {
   "cell_type": "code",
   "execution_count": 2,
   "metadata": {},
   "outputs": [],
   "source": [
    "import numpy as np\n",
    "from Bio import AlignIO\n",
    "import os\n",
    "import subprocess"
   ]
  },
  {
   "cell_type": "code",
   "execution_count": 15,
   "metadata": {},
   "outputs": [],
   "source": [
    "def find_nearest(pdb, n_nearest):\n",
    "    import numpy as np\n",
    "    from scipy.spatial import distance\n",
    "    \"\"\"\n",
    "    This function finds the n_nearest atoms to a given atom in a pdb file.\n",
    "    \"\"\"\n",
    "    with open(pdb, 'r') as f:\n",
    "        lines = [line for line in f if line.startswith('ATOM') and line[13:15] == 'CA']\n",
    "    coords = np.array([line.split()[6:9] for line in lines], dtype=float)\n",
    "    distance_matrix = distance.cdist(coords, coords)\n",
    "    nearest_ind = np.array([np.argsort(distance_matrix[i])[1:n_nearest+1] for i in range(len(distance_matrix))])\n",
    "    nearest_dist = np.array([np.sort(distance_matrix[i])[1:n_nearest+1] for i in range(len(distance_matrix))])\n",
    "    return nearest_ind, nearest_dist"
   ]
  },
  {
   "cell_type": "code",
   "execution_count": 16,
   "metadata": {},
   "outputs": [],
   "source": [
    "def jsd(p, q):\n",
    "    \"\"\"\n",
    "    This function calculates the Jensen-Shannon divergence between two probability distributions.\n",
    "    \"\"\"\n",
    "    from scipy.special import rel_entr\n",
    "    import numpy as np\n",
    "    m = 0.5 * (p + q)\n",
    "    jsd = 0.5 * np.sum(rel_entr(p, m)) + 0.5 * np.sum(rel_entr(q, m))\n",
    "    return jsd"
   ]
  },
  {
   "cell_type": "code",
   "execution_count": null,
   "metadata": {},
   "outputs": [],
   "source": [
    "def mmseqs_conservation(input_pdb : str,input_fasta : str, database_fasta : str, windows:bool = False, max_seqs:int = 1000, include_neighbors:bool=False, n_nearest:int=5, decay:float=0.5, alpha:float=0.5):\n",
    "    import subprocess\n",
    "    if not os.path.exists('./data/mmseqs_data'):\n",
    "        os.makedirs('./data/mmseqs_data')\n",
    "    subprocess.run([\"mmseqs\",\"createdb\",database_fasta,\"./data/mmseqs_data/database_db\"])                #create mmseq db file from fasta (database)\n",
    "    subprocess.run([\"mmseqs\",\"createdb\", input_fasta, \"./data/mmseqs_data/protein_db\"])        #create mmseq db file from fasta (input protein)\n",
    "    subprocess.run([\"mmseqs\",\"search\",\"./data/mmseqs_data/protein_db\",\"./data/mmseqs_data/database_db\",\"./data/mmseqs_data/result\",\"./data/mmseqs_data/tmp\",\"--max-seqs\",str(max_seqs)])     #search homolog proteins in database\n",
    "    subprocess.run([\"mmseqs\",\"result2msa\",\"./data/mmseqs_data/protein_db\",\"./data/mmseqs_data/database_db\",\"./data/mmseqs_data/result\",\"./data/mmseqs_data/alignment_msa.fasta\"])     # generate multiple sequence alignment from search result\n",
    "    \n",
    "    aa_order = ['A', 'R', 'N', 'D', 'C', 'Q', 'E', 'G', 'H', 'I', 'L', 'K', 'M', 'F', 'P', 'S', 'T', 'W', 'Y', 'V']\n",
    "    blosum62_background = np.array([0.078, 0.051, 0.041, 0.052, 0.024, 0.034, 0.059, 0.083, 0.025, 0.062, 0.092, 0.056, 0.024, 0.044, 0.043, 0.059, 0.055, 0.014, 0.034, 0.072])\n",
    "    alignment = AlignIO.read('./data/mmseqs_data/alignment_msa.fasta', 'fasta')   # read msa using biopython\n",
    "    alignment_array = np.array([list(rec.seq) for rec in alignment], dtype = 'U1')\n",
    "    prot_seq = alignment[0].seq    # first sequence is protein of interest\n",
    "    columns = np.where(np.array(prot_seq) != '-')[0]\n",
    "    alignment_array_filtered = alignment_array[:, columns]\n",
    "    aa_prop_array = np.zeros((20, alignment_array_filtered.shape[1]))   # initiate array to store amino acid proportions\n",
    "    for n_col, col in enumerate(alignment_array_filtered.T):            # calculate amino acid proportions for each column\n",
    "        col_no_gaps = np.char.upper(col[col != '-'])\n",
    "        aa_percs = np.array([np.sum(col_no_gaps == aa)/len(col_no_gaps) for aa in aa_order])    \n",
    "        aa_prop_array[:, n_col] = aa_percs                              \n",
    "    conservation_scores = np.zeros(len(columns))\n",
    "    for n_col, col in enumerate(aa_prop_array.T):\n",
    "        conservation_scores[n_col] = jsd(col, blosum62_background)  # compute Jensen-Shannon divergence for each column\n",
    "    if include_neighbors:\n",
    "        ind,dist = find_nearest(input_pdb, n_nearest)\n",
    "        weights = np.array([np.exp(-decay*row) for row in dist])\n",
    "        weightsums = np.sum(weights, axis = 1)\n",
    "        neighbors = conservation_scores[ind]\n",
    "        neighbors_weighted = np.sum(neighbors*weights, axis = 1)/weightsums\n",
    "        conservation_scores_neighbors = alpha * conservation_scores + (1-alpha) * neighbors_weighted\n",
    "        return conservation_scores, conservation_scores_neighbors\n",
    "    else:\n",
    "        return conservation_scores"
   ]
  },
  {
   "cell_type": "code",
   "execution_count": 1,
   "metadata": {},
   "outputs": [],
   "source": [
    "database_fasta = './data/850db.fasta'\n",
    "input_fasta = './data/AF-Q72KT1-F1.fasta'\n",
    "max_seqs = 1000"
   ]
  },
  {
   "cell_type": "code",
   "execution_count": null,
   "metadata": {},
   "outputs": [],
   "source": [
    "subprocess.run([\"mmseqs\",\"createdb\",database_fasta,\"./data/mmseqs_data/database_db\"])                #create mmseq db file from fasta (database)\n",
    "subprocess.run([\"mmseqs\",\"createdb\", input_fasta, \"./data/mmseqs_data/protein_db\"])        #create mmseq db file from fasta (input protein)\n",
    "subprocess.run([\"mmseqs\",\"search\",\"./data/mmseqs_data/protein_db\",\"./data/mmseqs_data/database_db\",\"./data/mmseqs_data/result\",\"./data/mmseqs_data/tmp\",\"--max-seqs\",str(max_seqs)])     #search homolog proteins in database\n",
    "subprocess.run([\"mmseqs\",\"result2msa\",\"./data/mmseqs_data/protein_db\",\"./data/mmseqs_data/database_db\",\"./data/mmseqs_data/result\",\"./data/mmseqs_data/alignment_msa.fasta\"])     # generate multiple sequence alignment from search result"
   ]
  },
  {
   "cell_type": "code",
   "execution_count": 11,
   "metadata": {},
   "outputs": [],
   "source": [
    "database_fasta = './data/850db.fasta'\n",
    "input_fasta = './data/AF-Q72KT1-F1.fasta'"
   ]
  },
  {
   "cell_type": "code",
   "execution_count": null,
   "metadata": {},
   "outputs": [
    {
     "name": "stdout",
     "output_type": "stream",
     "text": [
      "\n"
     ]
    }
   ],
   "source": [
    "subprocess.run([\"wsl\", \"mmseqs\",\"createdb\",database_fasta,\"mmseqs/database_db\"],stdout=subprocess.PIPE, text=True)"
   ]
  },
  {
   "cell_type": "code",
   "execution_count": 14,
   "metadata": {},
   "outputs": [
    {
     "data": {
      "text/plain": [
       "CompletedProcess(args=['wsl', 'bash', '-c', 'source /home/tobi/miniconda3/etc/profile.d/conda.sh && conda activate testwsl && mmseqs createdb /mnt/c/Users/tobia/OneDrive/Documents/Uni/splitproteins/switchable-split-proteins/data/850db.fasta mmseqs/database_db'], returncode=1, stdout='createdb /mnt/c/Users/tobia/OneDrive/Documents/Uni/splitproteins/switchable-split-proteins/data/850db.fasta mmseqs/database_db \\n\\nMMseqs Version:       \\t15.6f452\\nDatabase type         \\t0\\nShuffle input database\\ttrue\\nCreatedb mode         \\t0\\nWrite lookup file     \\t1\\nOffset of numeric ids \\t0\\nCompressed            \\t0\\nVerbosity             \\t3\\n\\nConverting sequences\\n', stderr='Cannot open mmseqs/database_db.source for writing\\n')"
      ]
     },
     "execution_count": 14,
     "metadata": {},
     "output_type": "execute_result"
    }
   ],
   "source": [
    "command = [\n",
    "    \"wsl\", \n",
    "    \"bash\", \"-c\", \n",
    "    f\"source /home/tobi/miniconda3/etc/profile.d/conda.sh && conda activate testwsl && mmseqs createdb {'/mnt/c/Users/tobia/OneDrive/Documents/Uni/splitproteins/switchable-split-proteins/data/850db.fasta'} {'mmseqs/database_db'}\"\n",
    "]\n",
    "subprocess.run(command, stdout=subprocess.PIPE, stderr=subprocess.PIPE, text=True)"
   ]
  }
 ],
 "metadata": {
  "kernelspec": {
   "display_name": "test",
   "language": "python",
   "name": "python3"
  },
  "language_info": {
   "codemirror_mode": {
    "name": "ipython",
    "version": 3
   },
   "file_extension": ".py",
   "mimetype": "text/x-python",
   "name": "python",
   "nbconvert_exporter": "python",
   "pygments_lexer": "ipython3",
   "version": "3.12.7"
  }
 },
 "nbformat": 4,
 "nbformat_minor": 2
}
