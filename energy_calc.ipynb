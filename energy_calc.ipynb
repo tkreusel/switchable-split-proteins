{
 "cells": [
  {
   "cell_type": "code",
   "execution_count": 4,
   "metadata": {
    "collapsed": true,
    "jupyter": {
     "outputs_hidden": true
    },
    "scrolled": true
   },
   "outputs": [
    {
     "name": "stdout",
     "output_type": "stream",
     "text": [
      "┌──────────────────────────────────────────────────────────────────────────────┐\n",
      "│                                 PyRosetta-4                                  │\n",
      "│              Created in JHU by Sergey Lyskov and PyRosetta Team              │\n",
      "│              (C) Copyright Rosetta Commons Member Institutions               │\n",
      "│                                                                              │\n",
      "│ NOTE: USE OF PyRosetta FOR COMMERCIAL PURPOSES REQUIRE PURCHASE OF A LICENSE │\n",
      "│         See LICENSE.PyRosetta.md or email license@uw.edu for details         │\n",
      "└──────────────────────────────────────────────────────────────────────────────┘\n",
      "PyRosetta-4 2024 [Rosetta PyRosetta4.Release.python312.ubuntu 2024.42+release.3366cf78a3df04339d1982e94531b77b098ddb99 2024-10-11T08:24:04] retrieved from: http://www.pyrosetta.org\n",
      "core.init: Checking for fconfig files in pwd and ./rosetta/flags\n",
      "core.init: Rosetta version: PyRosetta4.Release.python312.ubuntu r388 2024.42+release.3366cf78a3 3366cf78a3df04339d1982e94531b77b098ddb99 http://www.pyrosetta.org 2024-10-11T08:24:04\n",
      "core.init: Rosetta extras: []\n",
      "core.init: command: PyRosetta -ex1 -ex2aro -database /home/hd/hd_hd/hd_bn300/.conda/envs/main/lib/python3.12/site-packages/pyrosetta/database\n",
      "basic.random.init_random_generator: 'RNG device' seed mode, using '/dev/urandom', seed=-399687019 seed_offset=0 real_seed=-399687019\n",
      "basic.random.init_random_generator: RandomGenerator:init: Normal mode, seed=-399687019 RG_type=mt19937\n",
      "┌──────────────────────────────────────────────────────────────────────────────┐\n",
      "│                                 PyRosetta-4                                  │\n",
      "│              Created in JHU by Sergey Lyskov and PyRosetta Team              │\n",
      "│              (C) Copyright Rosetta Commons Member Institutions               │\n",
      "│                                                                              │\n",
      "│ NOTE: USE OF PyRosetta FOR COMMERCIAL PURPOSES REQUIRE PURCHASE OF A LICENSE │\n",
      "│         See LICENSE.PyRosetta.md or email license@uw.edu for details         │\n",
      "└──────────────────────────────────────────────────────────────────────────────┘\n",
      "PyRosetta-4 2024 [Rosetta PyRosetta4.Release.python312.ubuntu 2024.42+release.3366cf78a3df04339d1982e94531b77b098ddb99 2024-10-11T08:24:04] retrieved from: http://www.pyrosetta.org\n",
      "core.init: Checking for fconfig files in pwd and ./rosetta/flags\n",
      "core.init: Rosetta version: PyRosetta4.Release.python312.ubuntu r388 2024.42+release.3366cf78a3 3366cf78a3df04339d1982e94531b77b098ddb99 http://www.pyrosetta.org 2024-10-11T08:24:04\n",
      "core.init: Rosetta extras: []\n",
      "core.init: command: PyRosetta -ex1 -ex2aro -database /home/hd/hd_hd/hd_bn300/.conda/envs/main/lib/python3.12/site-packages/pyrosetta/database\n",
      "basic.random.init_random_generator: 'RNG device' seed mode, using '/dev/urandom', seed=871520755 seed_offset=0 real_seed=871520755\n",
      "basic.random.init_random_generator: RandomGenerator:init: Normal mode, seed=871520755 RG_type=mt19937\n"
     ]
    }
   ],
   "source": [
    "import pyrosetta; pyrosetta.init()\n",
    "from pyrosetta import *\n",
    "init()\n",
    "from pyrosetta.toolbox import pose_from_rcsb\n",
    "from pyrosetta.toolbox import cleanATOM\n",
    "from pyrosetta.teaching import *\n",
    "from pyrosetta import PyMOLMover\n",
    "import pandas as pd\n",
    "import numpy as np\n",
    "import matplotlib.pyplot as plt\n",
    "from split_energy import energy_intervals\n",
    "from split_energy import split_energy\n",
    "from split_energy import plot\n",
    "import IPython\n",
    "from stride import stride\n",
    "from stride import no_secondary"
   ]
  },
  {
   "cell_type": "code",
   "execution_count": null,
   "metadata": {},
   "outputs": [],
   "source": []
  },
  {
   "cell_type": "code",
   "execution_count": 5,
   "metadata": {
    "collapsed": true,
    "jupyter": {
     "outputs_hidden": true
    }
   },
   "outputs": [
    {
     "name": "stdout",
     "output_type": "stream",
     "text": [
      "core.import_pose.import_pose: [ ERROR ] File: 1XO0 not found!\n"
     ]
    },
    {
     "name": "stderr",
     "output_type": "stream",
     "text": [
      "\n",
      "ERROR: Cannot open file \"1XO0\"\n",
      "ERROR:: Exit from: /home/benchmark/rosetta/source/src/core/import_pose/import_pose.cc line: 361\n"
     ]
    },
    {
     "ename": "RuntimeError",
     "evalue": "\n\nFile: /home/benchmark/rosetta/source/src/core/import_pose/import_pose.cc:361\n[ ERROR ] UtilityExitException\nERROR: Cannot open file \"1XO0\"\n\n",
     "output_type": "error",
     "traceback": [
      "\u001b[0;31m---------------------------------------------------------------------------\u001b[0m",
      "\u001b[0;31mRuntimeError\u001b[0m                              Traceback (most recent call last)",
      "Cell \u001b[0;32mIn[5], line 1\u001b[0m\n\u001b[0;32m----> 1\u001b[0m ifp, se_ifp \u001b[38;5;241m=\u001b[39m split_energy(\u001b[38;5;124m\"\u001b[39m\u001b[38;5;124m1XO0\u001b[39m\u001b[38;5;124m\"\u001b[39m)\n\u001b[1;32m      2\u001b[0m plot(se_ifp)\n\u001b[1;32m      3\u001b[0m merged_ifp, filtered_ifp \u001b[38;5;241m=\u001b[39m energy_intervals(se_ifp)\n",
      "File \u001b[0;32m/gpfs/bwfor/home/hd/hd_hd/hd_bn300/switchable-split-proteins/split_energy.py:12\u001b[0m, in \u001b[0;36msplit_energy\u001b[0;34m(pdb, window)\u001b[0m\n\u001b[1;32m     11\u001b[0m \u001b[38;5;28;01mdef\u001b[39;00m \u001b[38;5;21msplit_energy\u001b[39m(pdb:\u001b[38;5;28mstr\u001b[39m, window \u001b[38;5;241m=\u001b[39m \u001b[38;5;241m3\u001b[39m):\n\u001b[0;32m---> 12\u001b[0m     pose \u001b[38;5;241m=\u001b[39m pose_from_pdb(pdb) \u001b[38;5;66;03m# Load the protein structure from PDB\u001b[39;00m\n\u001b[1;32m     13\u001b[0m     n_residues \u001b[38;5;241m=\u001b[39m pose\u001b[38;5;241m.\u001b[39mtotal_residue() \u001b[38;5;66;03m# Get the total number of residues\u001b[39;00m\n\u001b[1;32m     14\u001b[0m     scorefxn \u001b[38;5;241m=\u001b[39m get_score_function(\u001b[38;5;28;01mTrue\u001b[39;00m)  \u001b[38;5;66;03m# Get a scoring function (standard Rosetta energy function)\u001b[39;00m\n",
      "File \u001b[0;32m~/.conda/envs/main/lib/python3.12/site-packages/pyrosetta/io/__init__.py:20\u001b[0m, in \u001b[0;36mpose_from_pdb\u001b[0;34m(filename)\u001b[0m\n\u001b[1;32m     19\u001b[0m \u001b[38;5;28;01mdef\u001b[39;00m \u001b[38;5;21mpose_from_pdb\u001b[39m(filename):\n\u001b[0;32m---> 20\u001b[0m     \u001b[38;5;28;01mreturn\u001b[39;00m pose_from_file(filename)\n",
      "\u001b[0;31mRuntimeError\u001b[0m: \n\nFile: /home/benchmark/rosetta/source/src/core/import_pose/import_pose.cc:361\n[ ERROR ] UtilityExitException\nERROR: Cannot open file \"1XO0\"\n\n"
     ]
    }
   ],
   "source": [
    "ifp, se_ifp = split_energy(\"1XO0\")\n",
    "plot(se_ifp)\n",
    "merged_ifp, filtered_ifp = energy_intervals(se_ifp)\n",
    "plot(se_ifp, merged_intervals=merged_ifp, filtered_intervals=filtered_ifp, type ='intervals')"
   ]
  },
  {
   "cell_type": "code",
   "execution_count": null,
   "metadata": {},
   "outputs": [],
   "source": [
    "ifp.total_residue()"
   ]
  },
  {
   "cell_type": "code",
   "execution_count": null,
   "metadata": {},
   "outputs": [],
   "source": [
    "gfp, se_gfp = split_energy(\"1GFL\")\n",
    "plot(se_gfp)\n",
    "merged_gfp, filtered_gfp = energy_intervals(se_gfp)\n",
    "plot(se_gfp, merged_intervals=merged_gfp, filtered_intervals=filtered_gfp, type ='intervals')"
   ]
  },
  {
   "cell_type": "code",
   "execution_count": null,
   "metadata": {},
   "outputs": [],
   "source": [
    "ubq, se_ubq = split_energy(\"1UBQ\")\n",
    "plot(se_ubq)\n",
    "merged_ubq, filtered_ubq = energy_intervals(se_ubq)\n",
    "plot(se_ubq, merged_intervals=merged_ubq, filtered_intervals=filtered_ubq, type ='intervals')"
   ]
  },
  {
   "cell_type": "code",
   "execution_count": null,
   "metadata": {},
   "outputs": [],
   "source": [
    "lac, se_lac = split_energy(\"1ZG4\")\n",
    "plot(se_lac)\n",
    "merged_lac, filtered_lac = energy_intervals(se_lac)\n",
    "plot(se_lac, merged_intervals=merged_lac, filtered_intervals=filtered_lac, type ='intervals')"
   ]
  },
  {
   "cell_type": "code",
   "execution_count": null,
   "metadata": {},
   "outputs": [],
   "source": [
    "pdb = '/home/hd/hd_hd/hd_ot299/switchable-split-proteins/data/1zg4.pdb'\n",
    "temp = stride(pdb, system='mac', stride_dir='/home/hd/hd_hd/hd_ot299/.conda/envs/main/bin/stride', output_dir='/data/strideout')\n",
    "print(temp)\n",
    "temp[['resnum', 'saa']] = temp[['resnum', 'saa']].astype('float64')\n"
   ]
  },
  {
   "cell_type": "code",
   "execution_count": null,
   "metadata": {},
   "outputs": [],
   "source": [
    "split_sites = []\n",
    "for i in range(1,lac.total_residue()):\n",
    "    sites = (i, i+1)\n",
    "    if (temp.loc[temp['resnum']==sites[0], 'saa'].values[0] > 30) and (temp.loc[temp['resnum']==sites[1], 'saa'].values[0] > 30):\n",
    "        ### If-condition for conservation score: < 2\n",
    "        if (temp.loc[temp['resnum']==sites[0], 'code'].isin(['C','T']).iloc[0]) | (temp.loc[temp['resnum']==sites[1], 'code'].isin(['C','T']).iloc[0]):\n",
    "            split_sites.append(sites)"
   ]
  },
  {
   "cell_type": "code",
   "execution_count": null,
   "metadata": {},
   "outputs": [],
   "source": [
    "loops = []\n",
    "start = None\n",
    "for i in range(1,lac.total_residue()+1):\n",
    "    if (temp.loc[temp['resnum']==i, 'code'].isin(['C','T']).iloc[0]):\n",
    "        if start is None:\n",
    "            start = i\n",
    "    else:\n",
    "        if start is not None:\n",
    "            loops.append((start, i-1))\n",
    "            start = None\n",
    "if start is not None:\n",
    "    loops.append((start, i))"
   ]
  },
  {
   "cell_type": "code",
   "execution_count": null,
   "metadata": {},
   "outputs": [],
   "source": [
    "dump_list = []\n",
    "sites_loop = []\n",
    "for start, end in loops:\n",
    "    for i in split_sites:\n",
    "        if start <= i[0]+1 <= end+1:\n",
    "            dump_list.append(i)\n",
    "        else:\n",
    "            sites_loop.append(dump_list)\n",
    "            dump_list = []\n",
    "sites_loop.append(dump_list)\n",
    "sites_loop = [x for x in sites_loop if x != []]"
   ]
  },
  {
   "cell_type": "code",
   "execution_count": null,
   "metadata": {},
   "outputs": [],
   "source": [
    "sites_loop_filtered = []\n",
    "for i in sites_loop:\n",
    "    list_sum = []\n",
    "    if len(i) > 1:\n",
    "        for site in i:\n",
    "            sum = temp.loc[temp['resnum']==site[0], 'saa'].values[0] + temp.loc[temp['resnum']==site[1], 'saa'].values[0]\n",
    "            list_sum.append(sum)\n",
    "        sorted = list(np.argsort(list_sum)[::-1][:2])\n",
    "        if np.abs(i[sorted[0]][0] - i[sorted[1]][0]) > 5:\n",
    "            sites_loop_filtered.append([i[j] for j in sorted])\n",
    "        else:\n",
    "            sites_loop_filtered.append([i[sorted[0]]])\n",
    "    else:\n",
    "        sites_loop_filtered.append(i)"
   ]
  },
  {
   "cell_type": "code",
   "execution_count": null,
   "metadata": {},
   "outputs": [],
   "source": [
    "for i in sites_loop_filtered[:]:\n",
    "    bool = []\n",
    "    if len(i) < 2:\n",
    "        for start, end in filtered_lac:\n",
    "            if not (start <= i[0][0] + 1 <= end + 1):\n",
    "                bool.append(False)\n",
    "            else:\n",
    "                bool.append(True)\n",
    "        if not any(bool):\n",
    "            sites_loop_filtered.remove(i)"
   ]
  },
  {
   "cell_type": "code",
   "execution_count": 6,
   "metadata": {
    "collapsed": true,
    "jupyter": {
     "outputs_hidden": true
    }
   },
   "outputs": [
    {
     "name": "stdout",
     "output_type": "stream",
     "text": [
      "┌──────────────────────────────────────────────────────────────────────────────┐\n",
      "│                                 PyRosetta-4                                  │\n",
      "│              Created in JHU by Sergey Lyskov and PyRosetta Team              │\n",
      "│              (C) Copyright Rosetta Commons Member Institutions               │\n",
      "│                                                                              │\n",
      "│ NOTE: USE OF PyRosetta FOR COMMERCIAL PURPOSES REQUIRE PURCHASE OF A LICENSE │\n",
      "│         See LICENSE.PyRosetta.md or email license@uw.edu for details         │\n",
      "└──────────────────────────────────────────────────────────────────────────────┘\n",
      "PyRosetta-4 2024 [Rosetta PyRosetta4.Release.python312.ubuntu 2024.42+release.3366cf78a3df04339d1982e94531b77b098ddb99 2024-10-11T08:24:04] retrieved from: http://www.pyrosetta.org\n",
      "core.init: Checking for fconfig files in pwd and ./rosetta/flags\n",
      "core.init: Rosetta version: PyRosetta4.Release.python312.ubuntu r388 2024.42+release.3366cf78a3 3366cf78a3df04339d1982e94531b77b098ddb99 http://www.pyrosetta.org 2024-10-11T08:24:04\n",
      "core.init: Rosetta extras: []\n",
      "core.init: command: PyRosetta -ex1 -ex2aro -database /home/hd/hd_hd/hd_bn300/.conda/envs/main/lib/python3.12/site-packages/pyrosetta/database\n",
      "basic.random.init_random_generator: 'RNG device' seed mode, using '/dev/urandom', seed=-2109011556 seed_offset=0 real_seed=-2109011556\n",
      "basic.random.init_random_generator: RandomGenerator:init: Normal mode, seed=-2109011556 RG_type=mt19937\n",
      "┌──────────────────────────────────────────────────────────────────────────────┐\n",
      "│                                 PyRosetta-4                                  │\n",
      "│              Created in JHU by Sergey Lyskov and PyRosetta Team              │\n",
      "│              (C) Copyright Rosetta Commons Member Institutions               │\n",
      "│                                                                              │\n",
      "│ NOTE: USE OF PyRosetta FOR COMMERCIAL PURPOSES REQUIRE PURCHASE OF A LICENSE │\n",
      "│         See LICENSE.PyRosetta.md or email license@uw.edu for details         │\n",
      "└──────────────────────────────────────────────────────────────────────────────┘\n",
      "PyRosetta-4 2024 [Rosetta PyRosetta4.Release.python312.ubuntu 2024.42+release.3366cf78a3df04339d1982e94531b77b098ddb99 2024-10-11T08:24:04] retrieved from: http://www.pyrosetta.org\n",
      "core.init: Checking for fconfig files in pwd and ./rosetta/flags\n",
      "core.init: Rosetta version: PyRosetta4.Release.python312.ubuntu r388 2024.42+release.3366cf78a3 3366cf78a3df04339d1982e94531b77b098ddb99 http://www.pyrosetta.org 2024-10-11T08:24:04\n",
      "core.init: Rosetta extras: []\n",
      "core.init: command: PyRosetta -ex1 -ex2aro -database /home/hd/hd_hd/hd_bn300/.conda/envs/main/lib/python3.12/site-packages/pyrosetta/database\n",
      "basic.random.init_random_generator: 'RNG device' seed mode, using '/dev/urandom', seed=-381475476 seed_offset=0 real_seed=-381475476\n",
      "basic.random.init_random_generator: RandomGenerator:init: Normal mode, seed=-381475476 RG_type=mt19937\n"
     ]
    },
    {
     "ename": "TypeError",
     "evalue": "split_sites_func() takes 1 positional argument but 2 were given",
     "output_type": "error",
     "traceback": [
      "\u001b[0;31m---------------------------------------------------------------------------\u001b[0m",
      "\u001b[0;31mTypeError\u001b[0m                                 Traceback (most recent call last)",
      "Cell \u001b[0;32mIn[6], line 3\u001b[0m\n\u001b[1;32m      1\u001b[0m \u001b[38;5;28;01mfrom\u001b[39;00m \u001b[38;5;21;01msplit_sites\u001b[39;00m \u001b[38;5;28;01mimport\u001b[39;00m split_sites_func\n\u001b[0;32m----> 3\u001b[0m split_sites_func(\u001b[38;5;124m'\u001b[39m\u001b[38;5;124mhd_bn300\u001b[39m\u001b[38;5;124m'\u001b[39m, \u001b[38;5;124m'\u001b[39m\u001b[38;5;124m1xo0\u001b[39m\u001b[38;5;124m'\u001b[39m)\n",
      "\u001b[0;31mTypeError\u001b[0m: split_sites_func() takes 1 positional argument but 2 were given"
     ]
    }
   ],
   "source": [
    "from split_sites import split_sites_func\n",
    "\n",
    "split_sites_func('hd_la299', '1zg4')\n",
    "\n"
   ]
  },
  {
   "cell_type": "code",
   "execution_count": null,
   "metadata": {},
   "outputs": [],
   "source": [
    "def split_sites_func(user,pdb):\n",
    "    pdb = f'./data/{pdb}.pdb'\n",
    "    temp = stride(pdb, system='mac', stride_dir='./stride', output_dir='/data/strideout')\n",
    "    temp[['resnum', 'saa']] = temp[['resnum', 'saa']].astype('float64')\n",
    "    pose, se_pose = split_energy(pdb)\n",
    "    merged_pose, filtered_pose = energy_intervals(se_pose)\n",
    "    split_sites = []\n",
    "    for i in range(1,pose.total_residue()):\n",
    "        sites = (i, i+1)\n",
    "        if (temp.loc[temp['resnum']==sites[0], 'saa'].values[0] > 30) and (temp.loc[temp['resnum']==sites[1], 'saa'].values[0] > 30):\n",
    "        ### If-condition for conservation score: < 2\n",
    "            if (temp.loc[temp['resnum']==sites[0], 'code'].isin(['C','T']).iloc[0]) | (temp.loc[temp['resnum']==sites[1], 'code'].isin(['C','T']).iloc[0]):\n",
    "                split_sites.append(sites)\n",
    "    loops = []\n",
    "    start = None\n",
    "    for i in range(1,pose.total_residue()+1):\n",
    "        if (temp.loc[temp['resnum']==i, 'code'].isin(['C','T']).iloc[0]):\n",
    "            if start is None:\n",
    "                start = i\n",
    "        else:\n",
    "            if start is not None:\n",
    "                loops.append((start, i-1))\n",
    "                start = None\n",
    "    if start is not None:\n",
    "        loops.append((start, i))\n",
    "    loops = []\n",
    "    start = None\n",
    "    for i in range(1,pose.total_residue()+1):\n",
    "        if (temp.loc[temp['resnum']==i, 'code'].isin(['C','T']).iloc[0]):\n",
    "            if start is None:\n",
    "                start = i\n",
    "        else:\n",
    "            if start is not None:\n",
    "                loops.append((start, i-1))\n",
    "                start = None\n",
    "    if start is not None:\n",
    "        loops.append((start, i))\n",
    "    dump_list = []\n",
    "    sites_loop = []\n",
    "    for start, end in loops:\n",
    "        for i in split_sites:\n",
    "            if start <= i[0]+1 <= end+1:\n",
    "                dump_list.append(i)\n",
    "            else:\n",
    "                sites_loop.append(dump_list)\n",
    "                dump_list = []\n",
    "    sites_loop.append(dump_list)\n",
    "    sites_loop = [x for x in sites_loop if x != []]\n",
    "    sites_loop_filtered = []\n",
    "    for i in sites_loop:\n",
    "        list_sum = []\n",
    "        if len(i) > 1:\n",
    "            for site in i:\n",
    "                sum = temp.loc[temp['resnum']==site[0], 'saa'].values[0] + temp.loc[temp['resnum']==site[1], 'saa'].values[0]\n",
    "                list_sum.append(sum)\n",
    "            sorted = list(np.argsort(list_sum)[::-1][:2])\n",
    "            if np.abs(i[sorted[0]][0] - i[sorted[1]][0]) > 5:\n",
    "                sites_loop_filtered.append([i[j] for j in sorted])\n",
    "            else:\n",
    "                sites_loop_filtered.append([i[sorted[0]]])\n",
    "        else:\n",
    "            sites_loop_filtered.append(i)\n",
    "    for i in sites_loop_filtered[:]:\n",
    "        bool = []\n",
    "        if len(i) < 2:\n",
    "            for start, end in filtered_pose:\n",
    "                if not (start <= i[0][0] + 1 <= end + 1):\n",
    "                    bool.append(False)\n",
    "                else:\n",
    "                    bool.append(True)\n",
    "            if not any(bool):\n",
    "                sites_loop_filtered.remove(i)\n",
    "    return sites_loop_filtered"
   ]
  }
 ],
 "metadata": {
  "kernelspec": {
   "display_name": "Python 3 (ipykernel)",
   "language": "python",
   "name": "python3"
  },
  "language_info": {
   "codemirror_mode": {
    "name": "ipython",
    "version": 3
   },
   "file_extension": ".py",
   "mimetype": "text/x-python",
   "name": "python",
   "nbconvert_exporter": "python",
   "pygments_lexer": "ipython3",
   "version": "3.12.3"
  }
 },
 "nbformat": 4,
 "nbformat_minor": 4
}
