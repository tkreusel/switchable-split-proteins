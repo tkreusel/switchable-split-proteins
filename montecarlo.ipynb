{
 "cells": [
  {
   "cell_type": "code",
   "execution_count": 1,
   "metadata": {},
   "outputs": [
    {
     "name": "stdout",
     "output_type": "stream",
     "text": [
      "┌──────────────────────────────────────────────────────────────────────────────┐\n",
      "│                                 PyRosetta-4                                  │\n",
      "│              Created in JHU by Sergey Lyskov and PyRosetta Team              │\n",
      "│              (C) Copyright Rosetta Commons Member Institutions               │\n",
      "│                                                                              │\n",
      "│ NOTE: USE OF PyRosetta FOR COMMERCIAL PURPOSES REQUIRE PURCHASE OF A LICENSE │\n",
      "│         See LICENSE.PyRosetta.md or email license@uw.edu for details         │\n",
      "└──────────────────────────────────────────────────────────────────────────────┘\n",
      "PyRosetta-4 2024 [Rosetta PyRosetta4.Release.python312.mac 2024.35+release.45abd6ab3e15d27b06950672a1bb868f76c03266 2024-08-28T11:40:28] retrieved from: http://www.pyrosetta.org\n",
      "core.init: Checking for fconfig files in pwd and ./rosetta/flags\n",
      "core.init: Rosetta version: PyRosetta4.Release.python312.mac r385 2024.35+release.45abd6ab3e 45abd6ab3e15d27b06950672a1bb868f76c03266 http://www.pyrosetta.org 2024-08-28T11:40:28\n",
      "core.init: Rosetta extras: []\n",
      "core.init: command: PyRosetta -ex1 -ex2aro -database /Library/Frameworks/Python.framework/Versions/3.12/lib/python3.12/site-packages/pyrosetta/database\n",
      "basic.random.init_random_generator: 'RNG device' seed mode, using '/dev/urandom', seed=1536416128 seed_offset=0 real_seed=1536416128\n",
      "basic.random.init_random_generator: RandomGenerator:init: Normal mode, seed=1536416128 RG_type=mt19937\n",
      "┌──────────────────────────────────────────────────────────────────────────────┐\n",
      "│                                 PyRosetta-4                                  │\n",
      "│              Created in JHU by Sergey Lyskov and PyRosetta Team              │\n",
      "│              (C) Copyright Rosetta Commons Member Institutions               │\n",
      "│                                                                              │\n",
      "│ NOTE: USE OF PyRosetta FOR COMMERCIAL PURPOSES REQUIRE PURCHASE OF A LICENSE │\n",
      "│         See LICENSE.PyRosetta.md or email license@uw.edu for details         │\n",
      "└──────────────────────────────────────────────────────────────────────────────┘\n",
      "PyRosetta-4 2024 [Rosetta PyRosetta4.Release.python312.mac 2024.35+release.45abd6ab3e15d27b06950672a1bb868f76c03266 2024-08-28T11:40:28] retrieved from: http://www.pyrosetta.org\n",
      "core.init: Checking for fconfig files in pwd and ./rosetta/flags\n",
      "core.init: Rosetta version: PyRosetta4.Release.python312.mac r385 2024.35+release.45abd6ab3e 45abd6ab3e15d27b06950672a1bb868f76c03266 http://www.pyrosetta.org 2024-08-28T11:40:28\n",
      "core.init: Rosetta extras: []\n",
      "core.init: command: PyRosetta -ex1 -ex2aro -database /Library/Frameworks/Python.framework/Versions/3.12/lib/python3.12/site-packages/pyrosetta/database\n",
      "basic.random.init_random_generator: 'RNG device' seed mode, using '/dev/urandom', seed=-310926596 seed_offset=0 real_seed=-310926596\n",
      "basic.random.init_random_generator: RandomGenerator:init: Normal mode, seed=-310926596 RG_type=mt19937\n",
      "┌──────────────────────────────────────────────────────────────────────────────┐\n",
      "│                                 PyRosetta-4                                  │\n",
      "│              Created in JHU by Sergey Lyskov and PyRosetta Team              │\n",
      "│              (C) Copyright Rosetta Commons Member Institutions               │\n",
      "│                                                                              │\n",
      "│ NOTE: USE OF PyRosetta FOR COMMERCIAL PURPOSES REQUIRE PURCHASE OF A LICENSE │\n",
      "│         See LICENSE.PyRosetta.md or email license@uw.edu for details         │\n",
      "└──────────────────────────────────────────────────────────────────────────────┘\n",
      "PyRosetta-4 2024 [Rosetta PyRosetta4.Release.python312.mac 2024.35+release.45abd6ab3e15d27b06950672a1bb868f76c03266 2024-08-28T11:40:28] retrieved from: http://www.pyrosetta.org\n",
      "core.init: Checking for fconfig files in pwd and ./rosetta/flags\n",
      "core.init: Rosetta version: PyRosetta4.Release.python312.mac r385 2024.35+release.45abd6ab3e 45abd6ab3e15d27b06950672a1bb868f76c03266 http://www.pyrosetta.org 2024-08-28T11:40:28\n",
      "core.init: Rosetta extras: []\n",
      "core.init: command: PyRosetta -ex1 -ex2aro -database /Library/Frameworks/Python.framework/Versions/3.12/lib/python3.12/site-packages/pyrosetta/database\n",
      "basic.random.init_random_generator: 'RNG device' seed mode, using '/dev/urandom', seed=-1923520568 seed_offset=0 real_seed=-1923520568\n",
      "basic.random.init_random_generator: RandomGenerator:init: Normal mode, seed=-1923520568 RG_type=mt19937\n",
      "┌──────────────────────────────────────────────────────────────────────────────┐\n",
      "│                                 PyRosetta-4                                  │\n",
      "│              Created in JHU by Sergey Lyskov and PyRosetta Team              │\n",
      "│              (C) Copyright Rosetta Commons Member Institutions               │\n",
      "│                                                                              │\n",
      "│ NOTE: USE OF PyRosetta FOR COMMERCIAL PURPOSES REQUIRE PURCHASE OF A LICENSE │\n",
      "│         See LICENSE.PyRosetta.md or email license@uw.edu for details         │\n",
      "└──────────────────────────────────────────────────────────────────────────────┘\n",
      "PyRosetta-4 2024 [Rosetta PyRosetta4.Release.python312.mac 2024.35+release.45abd6ab3e15d27b06950672a1bb868f76c03266 2024-08-28T11:40:28] retrieved from: http://www.pyrosetta.org\n",
      "core.init: Checking for fconfig files in pwd and ./rosetta/flags\n",
      "core.init: Rosetta version: PyRosetta4.Release.python312.mac r385 2024.35+release.45abd6ab3e 45abd6ab3e15d27b06950672a1bb868f76c03266 http://www.pyrosetta.org 2024-08-28T11:40:28\n",
      "core.init: Rosetta extras: []\n",
      "core.init: command: PyRosetta -ex1 -ex2aro -database /Library/Frameworks/Python.framework/Versions/3.12/lib/python3.12/site-packages/pyrosetta/database\n",
      "basic.random.init_random_generator: 'RNG device' seed mode, using '/dev/urandom', seed=1768054003 seed_offset=0 real_seed=1768054003\n",
      "basic.random.init_random_generator: RandomGenerator:init: Normal mode, seed=1768054003 RG_type=mt19937\n"
     ]
    }
   ],
   "source": [
    "import pyrosetta; pyrosetta.init()\n",
    "from pyrosetta import *\n",
    "init()\n",
    "from pyrosetta.toolbox import pose_from_rcsb\n",
    "from pyrosetta.toolbox import cleanATOM\n",
    "from pyrosetta.teaching import *\n",
    "from pyrosetta import PyMOLMover\n",
    "import pandas as pd\n",
    "import numpy as np\n",
    "import matplotlib.pyplot as plt\n",
    "from split_energy import energy_intervals\n",
    "from split_energy import split_energy\n",
    "from split_energy import plot\n",
    "import IPython\n",
    "from stride import stride\n",
    "from stride import no_secondary"
   ]
  },
  {
   "cell_type": "code",
   "execution_count": 17,
   "metadata": {},
   "outputs": [],
   "source": [
    "polyA = pose_from_sequence('A'*10)"
   ]
  },
  {
   "cell_type": "code",
   "execution_count": 18,
   "metadata": {},
   "outputs": [],
   "source": [
    "pmm = PyMOLMover()\n",
    "pmm.keep_history(False)\n",
    "pmm.apply(polyA)"
   ]
  },
  {
   "cell_type": "code",
   "execution_count": 19,
   "metadata": {},
   "outputs": [
    {
     "name": "stdout",
     "output_type": "stream",
     "text": [
      "core.scoring.ScoreFunctionFactory: SCOREFUNCTION: ref2015\n"
     ]
    }
   ],
   "source": [
    "import math\n",
    "import random\n",
    "\n",
    "def randTrial(your_pose):\n",
    "### BEGIN SOLUTION\n",
    "    randNum = random.randint(2, your_pose.total_residue())\n",
    "    currPhi = your_pose.phi(randNum)\n",
    "    currPsi = your_pose.psi(randNum)\n",
    "    newPhi = random.gauss(currPhi, 25)\n",
    "    newPsi = random.gauss(currPsi, 25)\n",
    "    your_pose.set_phi(randNum,newPhi) \n",
    "    your_pose.set_psi(randNum,newPsi)\n",
    "    pmm.apply(your_pose)\n",
    "### END SOLUTION\n",
    "    return your_pose\n",
    "\n",
    "sfxn = get_fa_scorefxn()\n",
    "\n",
    "def score(your_pose):\n",
    "    ### BEGIN SOLUTION\n",
    "    return sfxn(your_pose)\n",
    "    ### END SOLUTION\n",
    "\n",
    "def decision(before_pose, after_pose):\n",
    "    ### BEGIN SOLUTION\n",
    "    E = score(after_pose) - score(before_pose)\n",
    "    if E < 0:\n",
    "        return after_pose\n",
    "    elif random.uniform(0, 1) >= math.exp(-E/1):\n",
    "        return before_pose\n",
    "    else:\n",
    "        return after_pose\n",
    "    ### END SOLUTION\n",
    "\n",
    "def basic_folding(your_pose):\n",
    "    \"\"\"Your basic folding algorithm that completes 100 Monte-Carlo iterations on a given pose\"\"\"\n",
    "    \n",
    "    lowest_pose = Pose() # Create an empty pose for tracking the lowest energy pose.\n",
    "    \n",
    "    ### BEGIN SOLUTION\n",
    "    for i in range(1000):\n",
    "        if i == 0:\n",
    "            lowest_pose.assign(your_pose)\n",
    "            \n",
    "        before_pose = Pose()\n",
    "        before_pose.assign(your_pose) # keep track of pose before random move\n",
    "\n",
    "        after_pose = Pose()\n",
    "        after_pose.assign(randTrial(your_pose)) # do random move and store the pose\n",
    "        \n",
    "        your_pose.assign(decision(before_pose, after_pose)) # keep the new pose or old pose\n",
    "        \n",
    "        if score(your_pose) < score(lowest_pose): # updating lowest pose\n",
    "            lowest_pose.assign(your_pose)\n",
    "        \n",
    "    ### END SOLUTION\n",
    "    return lowest_pose\n",
    "\n"
   ]
  },
  {
   "cell_type": "code",
   "execution_count": 21,
   "metadata": {},
   "outputs": [
    {
     "data": {
      "text/plain": [
       "<pyrosetta.rosetta.core.pose.Pose at 0x12b032330>"
      ]
     },
     "execution_count": 21,
     "metadata": {},
     "output_type": "execute_result"
    }
   ],
   "source": [
    "basic_folding(polyA)"
   ]
  }
 ],
 "metadata": {
  "kernelspec": {
   "display_name": "Python 3",
   "language": "python",
   "name": "python3"
  },
  "language_info": {
   "codemirror_mode": {
    "name": "ipython",
    "version": 3
   },
   "file_extension": ".py",
   "mimetype": "text/x-python",
   "name": "python",
   "nbconvert_exporter": "python",
   "pygments_lexer": "ipython3",
   "version": "3.12.3"
  }
 },
 "nbformat": 4,
 "nbformat_minor": 2
}
