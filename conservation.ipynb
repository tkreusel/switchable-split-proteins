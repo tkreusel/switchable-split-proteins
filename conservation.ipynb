{
 "cells": [
  {
   "cell_type": "code",
   "execution_count": 2,
   "metadata": {},
   "outputs": [],
   "source": [
    "import numpy as np \n",
    "import pandas as pd \n",
    "import os \n",
    "import subprocess"
   ]
  },
  {
   "cell_type": "code",
   "execution_count": 10,
   "metadata": {},
   "outputs": [],
   "source": [
    "result = subprocess.run(['wsl', 'hmmscan', '-h'], stdout=subprocess.PIPE, text=True)"
   ]
  },
  {
   "cell_type": "code",
   "execution_count": 7,
   "metadata": {},
   "outputs": [],
   "source": [
    "from stride import pdb_to_fasta\n",
    "pdb_to_fasta('./stride/AF-P0ABF1-F1.pdb', './data/fastas/AF-P0ABF1-F1.fasta')"
   ]
  },
  {
   "cell_type": "code",
   "execution_count": 21,
   "metadata": {},
   "outputs": [],
   "source": [
    "# amino acid order: A, R, N, D, C, Q, E, G, H, I, L, K, M, F, P, S, T, W, Y, V\n",
    "aa_order = ['A', 'R', 'N', 'D', 'C', 'Q', 'E', 'G', 'H', 'I', 'L', 'K', 'M', 'F', 'P', 'S', 'T', 'W', 'Y', 'V']\n",
    "blosum62_background = np.array([0.078, 0.051, 0.041, 0.052, 0.024, 0.034, 0.059, 0.083, 0.025, 0.062, 0.092, 0.056, 0.024, 0.044, 0.043, 0.059, 0.055, 0.014, 0.034, 0.072])"
   ]
  },
  {
   "cell_type": "code",
   "execution_count": 18,
   "metadata": {},
   "outputs": [
    {
     "data": {
      "text/plain": [
       "1084"
      ]
     },
     "execution_count": 18,
     "metadata": {},
     "output_type": "execute_result"
    }
   ],
   "source": [
    "len('------------MKALVYTPSLPRFFGARLLGKRFPR---KLLPLRLAE------VPLPEREGFLRVRVRLSGVCGS--DL---A-------------L-----------------L-------Y--------G-------K------SPPS-------------------I---------------------------------------S----P---F-----------------FS--F------------PAVLGHE-----I----L--------G------E----M------------EGSLVAVNPLLACADRG-----L----P-------P-----C-------PR-------------CQEGEEGLCQNVA---E-----GPLAPGML----GYNRDLPGGWGEWVLARP---E---RL-----H-------P---I--P-PGVP----------------------------EERAVFAEPLAVVLRGLNKLKPW---P---E----E----------V-----L----V------------LGMGTIGLLAVRLL-----R------------A--------L-------GY----TG------RLLAVAKYPHQA--E--------------RAKAFGADGVYGS------------A-----------K------------E----------A-----------L--------------------------------L---------A--------R---ARRYRYLLFEGHR----GGYEAVVEASGSGRGFREALALAREGGKV----LL------L---GA----------PGL-E-V---------------------------VD-L-SP-----------------FW-----F----K----E----V--A--L-----------WG--S--Y--TY-------------TREEFRE--AVGLLPELEGLESLVGG----------------------VYPL-------EAWPEALVAKG-----KALFRPKG----------------------------')"
   ]
  },
  {
   "cell_type": "code",
   "execution_count": 3,
   "metadata": {},
   "outputs": [],
   "source": [
    "from Bio import AlignIO"
   ]
  },
  {
   "cell_type": "code",
   "execution_count": 80,
   "metadata": {},
   "outputs": [],
   "source": [
    "alignment = AlignIO.read('./data/Pfam/output_alignment.fasta', 'fasta')"
   ]
  },
  {
   "cell_type": "code",
   "execution_count": 5,
   "metadata": {},
   "outputs": [],
   "source": [
    "sequ = alignment[-1].seq"
   ]
  },
  {
   "cell_type": "code",
   "execution_count": 6,
   "metadata": {},
   "outputs": [],
   "source": [
    "sequstr = np.array(sequ)"
   ]
  },
  {
   "cell_type": "code",
   "execution_count": 7,
   "metadata": {},
   "outputs": [],
   "source": [
    "testarr = sequstr != '-'"
   ]
  },
  {
   "cell_type": "code",
   "execution_count": 15,
   "metadata": {},
   "outputs": [
    {
     "data": {
      "text/plain": [
       "array([  12,   13,   14,   15,   16,   17,   18,   19,   20,   21,   22,\n",
       "         23,   24,   25,   26,   27,   28,   29,   30,   31,   32,   33,\n",
       "         34,   35,   36,   40,   41,   42,   43,   44,   45,   46,   47,\n",
       "         48,   55,   56,   57,   58,   59,   60,   61,   62,   63,   64,\n",
       "         65,   66,   67,   68,   69,   70,   71,   72,   73,   74,   75,\n",
       "         76,   79,   80,   84,   98,  116,  124,  133,  141,  148,  149,\n",
       "        150,  151,  171,  211,  216,  220,  238,  239,  242,  255,  256,\n",
       "        257,  258,  259,  260,  261,  267,  272,  281,  288,  293,  306,\n",
       "        307,  308,  309,  310,  311,  312,  313,  314,  315,  316,  317,\n",
       "        318,  319,  320,  321,  322,  328,  333,  341,  347,  355,  356,\n",
       "        370,  371,  372,  373,  374,  375,  376,  377,  378,  379,  380,\n",
       "        381,  382,  386,  392,  393,  394,  395,  396,  397,  398,  399,\n",
       "        404,  405,  406,  407,  408,  409,  410,  411,  412,  413,  414,\n",
       "        415,  416,  417,  418,  419,  420,  421,  425,  429,  430,  436,\n",
       "        444,  448,  451,  453,  454,  455,  456,  485,  486,  487,  488,\n",
       "        489,  490,  491,  492,  493,  494,  495,  496,  497,  498,  499,\n",
       "        500,  501,  502,  503,  504,  505,  506,  507,  511,  515,  520,\n",
       "        531,  537,  542,  555,  556,  557,  558,  559,  560,  561,  562,\n",
       "        563,  564,  565,  566,  567,  568,  574,  587,  596,  604,  605,\n",
       "        610,  611,  618,  619,  620,  621,  622,  623,  624,  625,  626,\n",
       "        627,  628,  629,  632,  647,  648,  649,  650,  651,  652,  653,\n",
       "        654,  655,  656,  657,  658,  659,  672,  684,  697,  708,  720,\n",
       "        753,  763,  772,  776,  777,  778,  779,  780,  781,  782,  783,\n",
       "        784,  785,  786,  787,  788,  793,  794,  795,  796,  797,  798,\n",
       "        799,  800,  801,  802,  803,  804,  805,  806,  807,  808,  809,\n",
       "        810,  811,  812,  813,  814,  815,  816,  817,  818,  819,  820,\n",
       "        821,  826,  827,  834,  838,  839,  850,  851,  852,  854,  856,\n",
       "        884,  885,  887,  889,  890,  908,  909,  915,  920,  925,  930,\n",
       "        933,  936,  948,  949,  952,  955,  958,  959,  973,  974,  975,\n",
       "        976,  977,  978,  979,  982,  983,  984,  985,  986,  987,  988,\n",
       "        989,  990,  991,  992,  993,  994,  995,  996,  997,  998, 1021,\n",
       "       1022, 1023, 1024, 1032, 1033, 1034, 1035, 1036, 1037, 1038, 1039,\n",
       "       1040, 1041, 1042, 1048, 1049, 1050, 1051, 1052, 1053, 1054, 1055])"
      ]
     },
     "execution_count": 15,
     "metadata": {},
     "output_type": "execute_result"
    }
   ],
   "source": [
    "np.where(testarr)[0]"
   ]
  },
  {
   "cell_type": "code",
   "execution_count": 9,
   "metadata": {},
   "outputs": [],
   "source": [
    "columns = np.where(testarr)[0]"
   ]
  },
  {
   "cell_type": "code",
   "execution_count": 41,
   "metadata": {},
   "outputs": [],
   "source": [
    "testcol = alignment[:, 933]"
   ]
  },
  {
   "cell_type": "code",
   "execution_count": 35,
   "metadata": {},
   "outputs": [
    {
     "name": "stdout",
     "output_type": "stream",
     "text": [
      "0\n"
     ]
    }
   ],
   "source": [
    "print(np.sum(np.array(list(testcol)) == 'A'))"
   ]
  },
  {
   "cell_type": "code",
   "execution_count": 42,
   "metadata": {},
   "outputs": [
    {
     "name": "stdout",
     "output_type": "stream",
     "text": [
      "A:5716 R:17247 N:5444 D:7705 C:605 Q:4708 E:4261 G:1268 H:2513 I:1503 L:1595 K:9268 M:780 F:656 P:36 S:21572 T:35293 W:177 Y:599 V:5925 "
     ]
    }
   ],
   "source": [
    "for aa in aa_order:\n",
    "    print(f'{aa}:{np.sum(np.array(list(testcol)) == aa)}' if np.sum(np.array(list(testcol)) == aa) > 0 else '', end=' ')"
   ]
  },
  {
   "cell_type": "code",
   "execution_count": 45,
   "metadata": {},
   "outputs": [
    {
     "name": "stdout",
     "output_type": "stream",
     "text": [
      "0 12\n",
      "1 13\n",
      "2 14\n",
      "3 15\n",
      "4 16\n",
      "5 17\n",
      "6 18\n",
      "7 19\n",
      "8 20\n",
      "9 21\n",
      "10 22\n",
      "11 23\n",
      "12 24\n",
      "13 25\n",
      "14 26\n",
      "15 27\n",
      "16 28\n",
      "17 29\n",
      "18 30\n",
      "19 31\n",
      "20 32\n",
      "21 33\n",
      "22 34\n",
      "23 35\n",
      "24 36\n",
      "25 40\n",
      "26 41\n",
      "27 42\n",
      "28 43\n",
      "29 44\n",
      "30 45\n",
      "31 46\n",
      "32 47\n",
      "33 48\n",
      "34 55\n",
      "35 56\n",
      "36 57\n",
      "37 58\n",
      "38 59\n",
      "39 60\n",
      "40 61\n",
      "41 62\n",
      "42 63\n",
      "43 64\n",
      "44 65\n",
      "45 66\n",
      "46 67\n",
      "47 68\n",
      "48 69\n",
      "49 70\n",
      "50 71\n",
      "51 72\n",
      "52 73\n",
      "53 74\n",
      "54 75\n",
      "55 76\n",
      "56 79\n",
      "57 80\n",
      "58 84\n",
      "59 98\n",
      "60 116\n",
      "61 124\n",
      "62 133\n",
      "63 141\n",
      "64 148\n",
      "65 149\n",
      "66 150\n",
      "67 151\n",
      "68 171\n",
      "69 211\n",
      "70 216\n",
      "71 220\n",
      "72 238\n",
      "73 239\n",
      "74 242\n",
      "75 255\n",
      "76 256\n",
      "77 257\n",
      "78 258\n",
      "79 259\n",
      "80 260\n",
      "81 261\n",
      "82 267\n",
      "83 272\n",
      "84 281\n",
      "85 288\n",
      "86 293\n",
      "87 306\n",
      "88 307\n",
      "89 308\n",
      "90 309\n",
      "91 310\n",
      "92 311\n",
      "93 312\n",
      "94 313\n",
      "95 314\n",
      "96 315\n",
      "97 316\n",
      "98 317\n",
      "99 318\n",
      "100 319\n",
      "101 320\n",
      "102 321\n",
      "103 322\n",
      "104 328\n",
      "105 333\n",
      "106 341\n",
      "107 347\n",
      "108 355\n",
      "109 356\n",
      "110 370\n",
      "111 371\n",
      "112 372\n",
      "113 373\n",
      "114 374\n",
      "115 375\n",
      "116 376\n",
      "117 377\n",
      "118 378\n",
      "119 379\n",
      "120 380\n",
      "121 381\n",
      "122 382\n",
      "123 386\n",
      "124 392\n",
      "125 393\n",
      "126 394\n",
      "127 395\n",
      "128 396\n",
      "129 397\n",
      "130 398\n",
      "131 399\n",
      "132 404\n",
      "133 405\n",
      "134 406\n",
      "135 407\n",
      "136 408\n",
      "137 409\n",
      "138 410\n",
      "139 411\n",
      "140 412\n",
      "141 413\n",
      "142 414\n",
      "143 415\n",
      "144 416\n",
      "145 417\n",
      "146 418\n",
      "147 419\n",
      "148 420\n",
      "149 421\n",
      "150 425\n",
      "151 429\n",
      "152 430\n",
      "153 436\n",
      "154 444\n",
      "155 448\n",
      "156 451\n",
      "157 453\n",
      "158 454\n",
      "159 455\n",
      "160 456\n",
      "161 485\n",
      "162 486\n",
      "163 487\n",
      "164 488\n",
      "165 489\n",
      "166 490\n",
      "167 491\n",
      "168 492\n",
      "169 493\n",
      "170 494\n",
      "171 495\n",
      "172 496\n",
      "173 497\n",
      "174 498\n",
      "175 499\n",
      "176 500\n",
      "177 501\n",
      "178 502\n",
      "179 503\n",
      "180 504\n",
      "181 505\n",
      "182 506\n",
      "183 507\n",
      "184 511\n",
      "185 515\n",
      "186 520\n",
      "187 531\n",
      "188 537\n",
      "189 542\n",
      "190 555\n",
      "191 556\n",
      "192 557\n",
      "193 558\n",
      "194 559\n",
      "195 560\n",
      "196 561\n",
      "197 562\n",
      "198 563\n",
      "199 564\n",
      "200 565\n",
      "201 566\n",
      "202 567\n",
      "203 568\n",
      "204 574\n",
      "205 587\n",
      "206 596\n",
      "207 604\n",
      "208 605\n",
      "209 610\n",
      "210 611\n",
      "211 618\n",
      "212 619\n",
      "213 620\n",
      "214 621\n",
      "215 622\n",
      "216 623\n",
      "217 624\n",
      "218 625\n",
      "219 626\n",
      "220 627\n",
      "221 628\n",
      "222 629\n",
      "223 632\n",
      "224 647\n",
      "225 648\n",
      "226 649\n",
      "227 650\n",
      "228 651\n",
      "229 652\n",
      "230 653\n",
      "231 654\n",
      "232 655\n",
      "233 656\n",
      "234 657\n",
      "235 658\n",
      "236 659\n",
      "237 672\n",
      "238 684\n",
      "239 697\n",
      "240 708\n",
      "241 720\n",
      "242 753\n",
      "243 763\n",
      "244 772\n",
      "245 776\n",
      "246 777\n",
      "247 778\n",
      "248 779\n",
      "249 780\n",
      "250 781\n",
      "251 782\n",
      "252 783\n",
      "253 784\n",
      "254 785\n",
      "255 786\n",
      "256 787\n",
      "257 788\n",
      "258 793\n",
      "259 794\n",
      "260 795\n",
      "261 796\n",
      "262 797\n",
      "263 798\n",
      "264 799\n",
      "265 800\n",
      "266 801\n",
      "267 802\n",
      "268 803\n",
      "269 804\n",
      "270 805\n",
      "271 806\n",
      "272 807\n",
      "273 808\n",
      "274 809\n",
      "275 810\n",
      "276 811\n",
      "277 812\n",
      "278 813\n",
      "279 814\n",
      "280 815\n",
      "281 816\n",
      "282 817\n",
      "283 818\n",
      "284 819\n",
      "285 820\n",
      "286 821\n",
      "287 826\n",
      "288 827\n",
      "289 834\n",
      "290 838\n",
      "291 839\n",
      "292 850\n",
      "293 851\n",
      "294 852\n",
      "295 854\n",
      "296 856\n",
      "297 884\n",
      "298 885\n",
      "299 887\n",
      "300 889\n",
      "301 890\n",
      "302 908\n",
      "303 909\n",
      "304 915\n",
      "305 920\n",
      "306 925\n",
      "307 930\n",
      "308 933\n",
      "309 936\n",
      "310 948\n",
      "311 949\n",
      "312 952\n",
      "313 955\n",
      "314 958\n",
      "315 959\n",
      "316 973\n",
      "317 974\n",
      "318 975\n",
      "319 976\n",
      "320 977\n",
      "321 978\n",
      "322 979\n",
      "323 982\n",
      "324 983\n",
      "325 984\n",
      "326 985\n",
      "327 986\n",
      "328 987\n",
      "329 988\n",
      "330 989\n",
      "331 990\n",
      "332 991\n",
      "333 992\n",
      "334 993\n",
      "335 994\n",
      "336 995\n",
      "337 996\n",
      "338 997\n",
      "339 998\n",
      "340 1021\n",
      "341 1022\n",
      "342 1023\n",
      "343 1024\n",
      "344 1032\n",
      "345 1033\n",
      "346 1034\n",
      "347 1035\n",
      "348 1036\n",
      "349 1037\n",
      "350 1038\n",
      "351 1039\n",
      "352 1040\n",
      "353 1041\n",
      "354 1042\n",
      "355 1048\n",
      "356 1049\n",
      "357 1050\n",
      "358 1051\n",
      "359 1052\n",
      "360 1053\n",
      "361 1054\n",
      "362 1055\n"
     ]
    }
   ],
   "source": [
    "for x,y in enumerate(columns):\n",
    "    print(x, y)"
   ]
  },
  {
   "cell_type": "code",
   "execution_count": 96,
   "metadata": {},
   "outputs": [],
   "source": [
    "columns_sub = columns[:10].astype(object)"
   ]
  },
  {
   "cell_type": "code",
   "execution_count": 57,
   "metadata": {},
   "outputs": [
    {
     "data": {
      "text/plain": [
       "array(['T', 'S', 'T', ..., 'S', 'R', 'A'], dtype='<U1')"
      ]
     },
     "execution_count": 57,
     "metadata": {},
     "output_type": "execute_result"
    }
   ],
   "source": [
    "test = np.array(list(testcol))[np.array(list(testcol)) != '-']\n",
    "test"
   ]
  },
  {
   "cell_type": "code",
   "execution_count": 70,
   "metadata": {},
   "outputs": [
    {
     "data": {
      "text/plain": [
       "array(['a', 'a', 'a', 'l', 'M'], dtype='<U1')"
      ]
     },
     "execution_count": 70,
     "metadata": {},
     "output_type": "execute_result"
    }
   ],
   "source": [
    "np.array(list(alignment[:,12]))[np.array(list(alignment[:,12])) != '-']"
   ]
  },
  {
   "cell_type": "code",
   "execution_count": 75,
   "metadata": {},
   "outputs": [],
   "source": [
    "col_no_gaps = np.char.upper(np.array(list(alignment[:, 12]))[np.array(list(alignment[:, 12])) != '-'])"
   ]
  },
  {
   "cell_type": "code",
   "execution_count": 79,
   "metadata": {},
   "outputs": [
    {
     "data": {
      "text/plain": [
       "str"
      ]
     },
     "execution_count": 79,
     "metadata": {},
     "output_type": "execute_result"
    }
   ],
   "source": [
    "type(alignment[:,12])"
   ]
  },
  {
   "cell_type": "code",
   "execution_count": 95,
   "metadata": {},
   "outputs": [
    {
     "data": {
      "text/plain": [
       "int"
      ]
     },
     "execution_count": 95,
     "metadata": {},
     "output_type": "execute_result"
    }
   ],
   "source": [
    "type(columns_sub.astype(object)[0])"
   ]
  },
  {
   "cell_type": "code",
   "execution_count": 98,
   "metadata": {},
   "outputs": [
    {
     "data": {
      "text/plain": [
       "array([12, 13, 14, 15, 16, 17, 18, 19, 20, 21], dtype=object)"
      ]
     },
     "execution_count": 98,
     "metadata": {},
     "output_type": "execute_result"
    }
   ],
   "source": [
    "columns_sub"
   ]
  },
  {
   "cell_type": "code",
   "execution_count": 99,
   "metadata": {},
   "outputs": [],
   "source": [
    "result_hmmscan = subprocess.run(['wsl', 'hmmscan', './data/Pfam/Pfam-A.hmm', './data/Pfam/Af-Q72KT1-F1.fasta'], stdout=subprocess.PIPE, text=True)"
   ]
  },
  {
   "cell_type": "code",
   "execution_count": 102,
   "metadata": {},
   "outputs": [],
   "source": [
    "textresult = result_hmmscan.stdout"
   ]
  },
  {
   "cell_type": "code",
   "execution_count": 103,
   "metadata": {},
   "outputs": [
    {
     "data": {
      "text/plain": [
       "'# hmmscan :: search sequence(s) against a profile database\\n# HMMER 3.3.2 (Nov 2020); http://hmmer.org/\\n# Copyright (C) 2020 Howard Hughes Medical Institute.\\n# Freely distributed under the BSD open source license.\\n# - - - - - - - - - - - - - - - - - - - - - - - - - - - - - - - - - - - -\\n# query sequence file:             ./data/Pfam/Af-Q72KT1-F1.fasta\\n# target HMM database:             ./data/Pfam/Pfam-A.hmm\\n# - - - - - - - - - - - - - - - - - - - - - - - - - - - - - - - - - - - -\\n\\nQuery:       AF-Q72KT1-F1  [L=363]\\nScores for complete sequence (score includes all domains):\\n   --- full sequence ---   --- best 1 domain ---    -#dom-\\n    E-value  score  bias    E-value  score  bias    exp  N  Model        Description\\n    ------- ------ -----    ------- ------ -----   ---- --  --------     -----------\\n    1.1e-18   67.7   0.0    1.5e-18   67.3   0.0    1.2  1  ADH_zinc_N    Zinc-binding dehydrogenase\\n    4.7e-12   46.4   0.0    2.3e-11   44.2   0.0    2.1  1  ADH_N         Alcohol dehydrogenase GroES-like domain\\n    1.2e-06   28.4   0.0      4e-06   26.7   0.0    1.7  1  Glu_dehyd_C   Glucose dehydrogenase C-terminus\\n     0.0051   17.4   0.0     0.0076   16.8   0.0    1.2  1  TrkA_N        TrkA-N domain\\n  ------ inclusion threshold ------\\n      0.089   12.4   0.0       0.13   11.8   0.0    1.2  1  2-Hacid_dh_C  D-isomer specific 2-hydroxyacid dehydrogenase, \\n\\n\\nDomain annotation for each model (and alignments):\\n>> ADH_zinc_N  Zinc-binding dehydrogenase\\n   #    score  bias  c-Evalue  i-Evalue hmmfrom  hmm to    alifrom  ali to    envfrom  env to     acc\\n ---   ------ ----- --------- --------- ------- -------    ------- -------    ------- -------    ----\\n   1 !   67.3   0.0   3.4e-22   1.5e-18       2     127 ..     196     328 ..     195     330 .. 0.92\\n\\n  Alignments for each domain:\\n  == domain 1  score: 67.3 bits;  conditional E-value: 3.4e-22\\n                   HHHHHHHHHHHTT-..EEEEEESSHHHHHHHHHTTESEEEETTTTHHHHHHHHHT......TTSSEEEEEESSCSHHHHHHHHHTEEEEEEEEEESC CS\\n    ADH_zinc_N   2 vGllavqlAkalGa..kViavdgseeklelakelGadhvvnskeadlveeikelt......ggkgvdvvidcvGspatleqalellapgGrvvvvGl 90 \\n                   +Gllav l++alG   +  av+  ++++e ak +Gad v+ s ++ l ++ ++        + +g+ +v++++Gs++ +++al+l+++gG+v ++G+\\n  AF-Q72KT1-F1 196 IGLLAVRLLRALGYtgRLLAVAKYPHQAERAKAFGADGVYGSAKEALLARARRYRyllfegHRGGYEAVVEASGSGRGFREALALAREGGKVLLLGA 292\\n                   9*****************************************4437888888877999998677********************************6 PP\\n\\n                   TSSEEEEEHHHHHHTT-EEEEE-SSSHHHHHHHHHHH CS\\n    ADH_zinc_N  91 pegeeelsladlllkeltvlgsllgsreefkellell 127\\n                    +g e+++l+++++ke+ + gs++++reef+e++ ll\\n  AF-Q72KT1-F1 293 -PGLEVVDLSPFWFKEVALWGSYTYTREEFREAVGLL 328\\n                   .55566**************************99775 PP\\n\\n>> ADH_N  Alcohol dehydrogenase GroES-like domain\\n   #    score  bias  c-Evalue  i-Evalue hmmfrom  hmm to    alifrom  ali to    envfrom  env to     acc\\n ---   ------ ----- --------- --------- ------- -------    ------- -------    ------- -------    ----\\n   1 !   44.2   0.0   5.1e-15   2.3e-11       5     103 ..      44     157 ..      40     158 .. 0.88\\n\\n  Alignments for each domain:\\n  == domain 1  score: 44.2 bits;  conditional E-value: 5.1e-15\\n                   EEEEEEEEEE-HHHHHHHHTTTT.....TT.SSSEE---EEEEEEEEESTTSSS--TT-EEEE-SE..-.....SSSHHHHTT-GGG-......... CS\\n         ADH_N   5 vlvkvkaagvcgsDlkhirkgki.....pavklPlvlGhevaGeVvevgegvtglkvGdrVvvepl..c.....gkCeackegeenlc......... 80 \\n                   + v+v+ +gvcgsDl  +  gk      p  ++P+vlGhe+ Ge +           G  V+v+pl  c       C++c+egee lc         \\n  AF-Q72KT1-F1  44 LRVRVRLSGVCGSDL-ALLYGKSppsisPFFSFPAVLGHEILGEME-----------GSLVAVNPLlaCadrglPPCPRCQEGEEGLCqnvaegpla 128\\n                   78*************.5999999999999999************97...........6667777776655555589******************988 PP\\n\\n                   .EETTT.....SSSBSEEEECGGGEEEES CS\\n         ADH_N  81 .kllGv.....Ggfaeyvvvpakqlvklp 103\\n                     +lG+     Gg+ e v+++ ++l+++p\\n  AF-Q72KT1-F1 129 pGMLGYnrdlpGGWGEWVLARPERLHPIP 157\\n                   888888*********************99 PP\\n\\n>> Glu_dehyd_C  Glucose dehydrogenase C-terminus\\n   #    score  bias  c-Evalue  i-Evalue hmmfrom  hmm to    alifrom  ali to    envfrom  env to     acc\\n ---   ------ ----- --------- --------- ------- -------    ------- -------    ------- -------    ----\\n   1 !   26.7   0.0   9.2e-10     4e-06       5     198 ..     166     351 ..     162     357 .. 0.75\\n\\n  Alignments for each domain:\\n  == domain 1  score: 26.7 bits;  conditional E-value: 9.2e-10\\n   Glu_dehyd_C   5 vLvEPlSvveKaielalasrsrfewepesalvlGaGplGLlalalleaqrglervyvlgrrdrpdpkidlveelGa..tYvdsretpvdei...... 93 \\n                   v+ EPl vv +++++        +  pe +lvlG G++GLla+ ll+a  g++    l+  ++p  +++  ++ Ga  +Y   +e+ + +       \\n  AF-Q72KT1-F1 166 VFAEPLAVVLRGLNK-------LKPWPEEVLVLGMGTIGLLAVRLLRA-LGYT-GRLLAVAKYPH-QAERAKAFGAdgVYGSAKEALLARArryryl 252\\n                   566666666666554.......344599**************999998.5665.45566555554.4456788998445777777777665111111 PP\\n\\n   Glu_dehyd_C  94 ..peaseevdlvvEaTGsakvafealdalapnGvavLlGvseskeveidggelhkelvleNkalvGsvNanvrhfeaaaealaaadesfldklvTkr 188\\n                      +     + vvEa Gs++   eal   +  G + LlG +  + v++      + ++ +  al Gs    ++ f++a+  l +++   l++lv  +\\n  AF-Q72KT1-F1 253 lfEGHRGGYEAVVEASGSGRGFREALALAREGGKVLLLGAPGLEVVDL------SPFWFKEVALWGSYTYTREEFREAVGLLPELEG--LESLVGGV 341\\n                   113456789*****************99999999999**998775444......35899999********************99876..89****** PP\\n\\n   Glu_dehyd_C 189 vdldefeeAf 198\\n                   ++l+++ eA+\\n  AF-Q72KT1-F1 342 YPLEAWPEAL 351\\n                   **99998886 PP\\n\\n>> TrkA_N  TrkA-N domain\\n   #    score  bias  c-Evalue  i-Evalue hmmfrom  hmm to    alifrom  ali to    envfrom  env to     acc\\n ---   ------ ----- --------- --------- ------- -------    ------- -------    ------- -------    ----\\n   1 !   16.8   0.0   1.7e-06    0.0076       1      54 [.     188     242 ..     188     250 .. 0.89\\n\\n  Alignments for each domain:\\n  == domain 1  score: 16.8 bits;  conditional E-value: 1.7e-06\\n                   EEEES-SHHHHHHHHHHHH.TT.EEEEEEESSHHHHHHHHHTTSEEEES-TTSHHH CS\\n        TrkA_N   1 iiiiGlGrvGrslaeeLse.gg.edvvvidkdeerveelreegvevvvgdatdeev 54 \\n                   ++++G+G++G   ++ L++ g+  + +++ k + ++e++++ g++ v+g+a  e++\\n  AF-Q72KT1-F1 188 VLVLGMGTIGLLAVRLLRAlGYtGRLLAVAKYPHQAERAKAFGADGVYGSAK-EAL 242\\n                   68*****************988955************************997.444 PP\\n\\n>> 2-Hacid_dh_C  D-isomer specific 2-hydroxyacid dehydrogenase, NAD binding domain\\n   #    score  bias  c-Evalue  i-Evalue hmmfrom  hmm to    alifrom  ali to    envfrom  env to     acc\\n ---   ------ ----- --------- --------- ------- -------    ------- -------    ------- -------    ----\\n   1 ?   11.8   0.0   3.1e-05      0.13      37      80 ..     186     231 ..     178     247 .. 0.80\\n\\n  Alignments for each domain:\\n  == domain 1  score: 11.8 bits;  conditional E-value: 3.1e-05\\n                   SEEEEES-SHHHHHHHHHHHHTT-..EEEEE-SS--HHCCCTHHTE CS\\n  2-Hacid_dh_C  37 ktvgiiGlGrIGkavakrlkafgm..kviaydrsrkeeeeaeelgv 80 \\n                   ++v ++G+G IG    ++l+a+g+  +++a+ +++++ e+a++ g+\\n  AF-Q72KT1-F1 186 EEVLVLGMGTIGLLAVRLLRALGYtgRLLAVAKYPHQAERAKAFGA 231\\n                   5799*******************97789999999998887776665 PP\\n\\n\\n\\nInternal pipeline statistics summary:\\n-------------------------------------\\nQuery sequence(s):                         1  (363 residues searched)\\nTarget model(s):                       21979  (3587873 nodes)\\nPassed MSV filter:                       300  (0.0136494); expected 439.6 (0.02)\\nPassed bias filter:                      265  (0.012057); expected 439.6 (0.02)\\nPassed Vit filter:                        36  (0.00163793); expected 22.0 (0.001)\\nPassed Fwd filter:                         5  (0.00022749); expected 0.2 (1e-05)\\nInitial search space (Z):              21979  [actual number of targets]\\nDomain search space  (domZ):               5  [number of targets reported over threshold]\\n# CPU time: 0.42u 1.54s 00:00:01.96 Elapsed: 00:00:27.66\\n# Mc/sec: 47.08\\n//\\n[ok]\\n'"
      ]
     },
     "execution_count": 103,
     "metadata": {},
     "output_type": "execute_result"
    }
   ],
   "source": [
    "textresult"
   ]
  },
  {
   "cell_type": "code",
   "execution_count": 97,
   "metadata": {},
   "outputs": [
    {
     "name": "stdout",
     "output_type": "stream",
     "text": [
      "0 12\n",
      "A : 0.6\n",
      "R : 0.0\n",
      "N : 0.0\n",
      "D : 0.0\n",
      "C : 0.0\n",
      "Q : 0.0\n",
      "E : 0.0\n",
      "G : 0.0\n",
      "H : 0.0\n",
      "I : 0.0\n",
      "L : 0.2\n",
      "K : 0.0\n",
      "M : 0.2\n",
      "F : 0.0\n",
      "P : 0.0\n",
      "S : 0.0\n",
      "T : 0.0\n",
      "W : 0.0\n",
      "Y : 0.0\n",
      "V : 0.0\n",
      "1 13\n",
      "A : 0.2\n",
      "R : 0.0\n",
      "N : 0.0\n",
      "D : 0.0\n",
      "C : 0.0\n",
      "Q : 0.0\n",
      "E : 0.0\n",
      "G : 0.0\n",
      "H : 0.0\n",
      "I : 0.0\n",
      "L : 0.0\n",
      "K : 0.4\n",
      "M : 0.0\n",
      "F : 0.0\n",
      "P : 0.0\n",
      "S : 0.0\n",
      "T : 0.4\n",
      "W : 0.0\n",
      "Y : 0.0\n",
      "V : 0.0\n",
      "2 14\n",
      "A : 0.4\n",
      "R : 0.2\n",
      "N : 0.0\n",
      "D : 0.0\n",
      "C : 0.0\n",
      "Q : 0.0\n",
      "E : 0.0\n",
      "G : 0.0\n",
      "H : 0.0\n",
      "I : 0.0\n",
      "L : 0.2\n",
      "K : 0.0\n",
      "M : 0.0\n",
      "F : 0.0\n",
      "P : 0.0\n",
      "S : 0.0\n",
      "T : 0.2\n",
      "W : 0.0\n",
      "Y : 0.0\n",
      "V : 0.0\n",
      "3 15\n",
      "A : 0.0\n",
      "R : 0.0\n",
      "N : 0.0\n",
      "D : 0.0\n",
      "C : 0.0\n",
      "Q : 0.0\n",
      "E : 0.0\n",
      "G : 0.0\n",
      "H : 0.0\n",
      "I : 0.0\n",
      "L : 0.4\n",
      "K : 0.0\n",
      "M : 0.0\n",
      "F : 0.0\n",
      "P : 0.2\n",
      "S : 0.2\n",
      "T : 0.0\n",
      "W : 0.0\n",
      "Y : 0.0\n",
      "V : 0.2\n",
      "4 16\n",
      "A : 0.2857142857142857\n",
      "R : 0.0\n",
      "N : 0.0\n",
      "D : 0.0\n",
      "C : 0.0\n",
      "Q : 0.0\n",
      "E : 0.0\n",
      "G : 0.0\n",
      "H : 0.0\n",
      "I : 0.0\n",
      "L : 0.0\n",
      "K : 0.14285714285714285\n",
      "M : 0.0\n",
      "F : 0.2857142857142857\n",
      "P : 0.0\n",
      "S : 0.14285714285714285\n",
      "T : 0.0\n",
      "W : 0.0\n",
      "Y : 0.0\n",
      "V : 0.14285714285714285\n",
      "5 17\n",
      "A : 0.0\n",
      "R : 0.0\n",
      "N : 0.0\n",
      "D : 0.2857142857142857\n",
      "C : 0.0\n",
      "Q : 0.0\n",
      "E : 0.0\n",
      "G : 0.0\n",
      "H : 0.0\n",
      "I : 0.0\n",
      "L : 0.14285714285714285\n",
      "K : 0.0\n",
      "M : 0.0\n",
      "F : 0.2857142857142857\n",
      "P : 0.0\n",
      "S : 0.0\n",
      "T : 0.14285714285714285\n",
      "W : 0.0\n",
      "Y : 0.14285714285714285\n",
      "V : 0.0\n",
      "6 18\n",
      "A : 0.0\n",
      "R : 0.125\n",
      "N : 0.125\n",
      "D : 0.0\n",
      "C : 0.0\n",
      "Q : 0.0\n",
      "E : 0.0\n",
      "G : 0.0\n",
      "H : 0.0\n",
      "I : 0.125\n",
      "L : 0.0\n",
      "K : 0.0\n",
      "M : 0.0\n",
      "F : 0.125\n",
      "P : 0.125\n",
      "S : 0.0\n",
      "T : 0.375\n",
      "W : 0.0\n",
      "Y : 0.0\n",
      "V : 0.0\n",
      "7 19\n",
      "A : 0.0\n",
      "R : 0.0\n",
      "N : 0.0\n",
      "D : 0.125\n",
      "C : 0.0\n",
      "Q : 0.0\n",
      "E : 0.125\n",
      "G : 0.0\n",
      "H : 0.0\n",
      "I : 0.25\n",
      "L : 0.0\n",
      "K : 0.125\n",
      "M : 0.0\n",
      "F : 0.0\n",
      "P : 0.25\n",
      "S : 0.0\n",
      "T : 0.0\n",
      "W : 0.0\n",
      "Y : 0.0\n",
      "V : 0.125\n",
      "8 20\n",
      "A : 0.1111111111111111\n",
      "R : 0.0\n",
      "N : 0.2222222222222222\n",
      "D : 0.1111111111111111\n",
      "C : 0.0\n",
      "Q : 0.1111111111111111\n",
      "E : 0.0\n",
      "G : 0.1111111111111111\n",
      "H : 0.0\n",
      "I : 0.0\n",
      "L : 0.0\n",
      "K : 0.0\n",
      "M : 0.0\n",
      "F : 0.0\n",
      "P : 0.0\n",
      "S : 0.1111111111111111\n",
      "T : 0.0\n",
      "W : 0.0\n",
      "Y : 0.0\n",
      "V : 0.2222222222222222\n",
      "9 21\n",
      "A : 0.0\n",
      "R : 0.0\n",
      "N : 0.1111111111111111\n",
      "D : 0.0\n",
      "C : 0.0\n",
      "Q : 0.2222222222222222\n",
      "E : 0.0\n",
      "G : 0.0\n",
      "H : 0.0\n",
      "I : 0.3333333333333333\n",
      "L : 0.2222222222222222\n",
      "K : 0.0\n",
      "M : 0.0\n",
      "F : 0.1111111111111111\n",
      "P : 0.0\n",
      "S : 0.0\n",
      "T : 0.0\n",
      "W : 0.0\n",
      "Y : 0.0\n",
      "V : 0.0\n"
     ]
    }
   ],
   "source": [
    "for n_col, col in enumerate(columns_sub):\n",
    "    print(n_col, col)\n",
    "    col_no_gaps = np.char.upper(np.array(list(alignment[:, col]))[np.array(list(alignment[:, col])) != '-'])\n",
    "    for aa in aa_order:\n",
    "        print(f'{aa} : {np.sum(col_no_gaps == aa)/len(col_no_gaps)}')"
   ]
  }
 ],
 "metadata": {
  "kernelspec": {
   "display_name": "Python 3",
   "language": "python",
   "name": "python3"
  },
  "language_info": {
   "codemirror_mode": {
    "name": "ipython",
    "version": 3
   },
   "file_extension": ".py",
   "mimetype": "text/x-python",
   "name": "python",
   "nbconvert_exporter": "python",
   "pygments_lexer": "ipython3",
   "version": "3.12.5"
  }
 },
 "nbformat": 4,
 "nbformat_minor": 2
}
